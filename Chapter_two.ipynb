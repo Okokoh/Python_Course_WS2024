{
 "cells": [
  {
   "cell_type": "markdown",
   "metadata": {},
   "source": [
    "# Declaring Variables (and Types) in Python"
   ]
  },
  {
   "cell_type": "code",
   "execution_count": 1,
   "metadata": {},
   "outputs": [],
   "source": [
    "# Declaring numerical variables\n",
    "h2oOxygens = 1           #integers\n",
    "h2oHydrogens = 2         #floating point numbers\n",
    "h2o_density_in_grams_per_litre = 1000\n",
    "oxygenMass = 15.9994\n",
    "hydrogenMass = 1.00794\n",
    "avogadro_number = 6.023e23      #exponentials"
   ]
  },
  {
   "cell_type": "code",
   "execution_count": 2,
   "metadata": {},
   "outputs": [
    {
     "name": "stdout",
     "output_type": "stream",
     "text": [
      "15.9994\n"
     ]
    }
   ],
   "source": [
    "print (oxygenMass)"
   ]
  },
  {
   "cell_type": "code",
   "execution_count": 3,
   "metadata": {},
   "outputs": [
    {
     "name": "stdout",
     "output_type": "stream",
     "text": [
      "6.023e+23\n"
     ]
    }
   ],
   "source": [
    "print(avogadro_number)"
   ]
  },
  {
   "cell_type": "code",
   "execution_count": 3,
   "metadata": {},
   "outputs": [],
   "source": [
    "# Declaring string variables\n",
    "buffer = 'Tris'\n",
    "buffer = 'MES'\n",
    "jfk = \"I'm proud to say 'Ich bin ein Berliner'\"\n",
    "carbonMass = \"12.0107\"\n",
    "\n",
    "# Using triple quotes\n",
    "limerick = \"\"\" Said a young researcher named SPode\n",
    "Having reached the end of his road\n",
    "'I have far too much data\n",
    "For this hand calculator\n",
    "If only I knew how to code!' \"\"\""
   ]
  },
  {
   "cell_type": "code",
   "execution_count": 5,
   "metadata": {},
   "outputs": [
    {
     "name": "stdout",
     "output_type": "stream",
     "text": [
      "molecular weight of H2O =  18.01528\n"
     ]
    }
   ],
   "source": [
    "# First piece of Real Python Code\n",
    "h2oMass = h2oOxygens * oxygenMass + h2oHydrogens * hydrogenMass\n",
    "print('molecular weight of H2O = ',h2oMass)"
   ]
  },
  {
   "cell_type": "code",
   "execution_count": 6,
   "metadata": {},
   "outputs": [],
   "source": [
    "# Python Functions\n",
    "\n",
    "def calculateVolume(mass,density):\n",
    "    volume = mass/density\n",
    "    return volume"
   ]
  },
  {
   "cell_type": "code",
   "execution_count": 7,
   "metadata": {},
   "outputs": [
    {
     "data": {
      "text/plain": [
       "2.0"
      ]
     },
     "execution_count": 7,
     "metadata": {},
     "output_type": "execute_result"
    }
   ],
   "source": [
    "calculateVolume(20,10)"
   ]
  },
  {
   "cell_type": "code",
   "execution_count": 4,
   "metadata": {},
   "outputs": [
    {
     "name": "stdout",
     "output_type": "stream",
     "text": [
      "This unindented line is not part of the function\n"
     ]
    }
   ],
   "source": [
    "#Example of indented code\n",
    "\n",
    "def explainedIndentedcode():\n",
    "    print('This indented line is part of the function')\n",
    "    print('So is this one')\n",
    "print('This unindented line is not part of the function')"
   ]
  },
  {
   "cell_type": "code",
   "execution_count": 9,
   "metadata": {},
   "outputs": [
    {
     "name": "stdout",
     "output_type": "stream",
     "text": [
      "This indented line is part of the function\n",
      "So is this one\n"
     ]
    }
   ],
   "source": [
    "explainedIndentedcode()"
   ]
  },
  {
   "cell_type": "code",
   "execution_count": 10,
   "metadata": {},
   "outputs": [
    {
     "name": "stdout",
     "output_type": "stream",
     "text": [
      "Volume of 1 mole of H2O = 0.01801528 L\n"
     ]
    }
   ],
   "source": [
    "# Simple function in action\n",
    "def calculateMolarVolume(mass,density):\n",
    "    volume = mass/density\n",
    "    return volume\n",
    "\n",
    "h2oMolarVolume = calculateMolarVolume(h2oMass,h2o_density_in_grams_per_litre)\n",
    "print('Volume of 1 mole of H2O =',h2oMolarVolume, 'L')"
   ]
  },
  {
   "cell_type": "markdown",
   "metadata": {},
   "source": [
    "# Calling a function from a function"
   ]
  },
  {
   "cell_type": "code",
   "execution_count": 11,
   "metadata": {},
   "outputs": [
    {
     "name": "stdout",
     "output_type": "stream",
     "text": [
      "Number of molecules of H2O in 1L =  3.343273043771731e+25\n"
     ]
    }
   ],
   "source": [
    "# A fucntion to calculate molecules per liter\n",
    "def moleculesPerLiter(mass,density):\n",
    "    molarVolume = calculateMolarVolume(mass,density)\n",
    "    numberofMolarVolumes = 1.0/molarVolume\n",
    "    numberofMolecules = avogadro_number * numberofMolarVolumes\n",
    "    return numberofMolecules\n",
    "h2oMoleculesPerLiter = moleculesPerLiter(h2oMass,h2o_density_in_grams_per_litre)\n",
    "print('Number of molecules of H2O in 1L = ',h2oMoleculesPerLiter)\n"
   ]
  },
  {
   "cell_type": "markdown",
   "metadata": {},
   "source": [
    "# Using Integers and Decimals in Python"
   ]
  },
  {
   "cell_type": "code",
   "execution_count": 12,
   "metadata": {},
   "outputs": [
    {
     "name": "stdout",
     "output_type": "stream",
     "text": [
      "a/b =  0.5\n"
     ]
    }
   ],
   "source": [
    "#Integer arithmetic\n",
    "a = 3\n",
    "b = 6\n",
    "print('a/b = ',a/b)"
   ]
  },
  {
   "cell_type": "code",
   "execution_count": 13,
   "metadata": {},
   "outputs": [
    {
     "name": "stdout",
     "output_type": "stream",
     "text": [
      "a/b+c =  7.0\n",
      "a/(b+c) =  0.75\n"
     ]
    }
   ],
   "source": [
    "#Mixing floating point numbers and integers\n",
    "a = 6.0\n",
    "b = 3.0\n",
    "c = 5.0\n",
    "print('a/b+c = ',a/b+c)\n",
    "print('a/(b+c) = ',a/(b+c)) #don't forget BODMAS, computer knows it too"
   ]
  },
  {
   "cell_type": "markdown",
   "metadata": {},
   "source": [
    "# Conditional Statements"
   ]
  },
  {
   "cell_type": "code",
   "execution_count": 14,
   "metadata": {},
   "outputs": [
    {
     "name": "stdout",
     "output_type": "stream",
     "text": [
      "something is something else\n"
     ]
    }
   ],
   "source": [
    "something = 5\n",
    "if something == 6:            #shows a code block starts\n",
    "    print('something is 6')\n",
    "elif something == 4:\n",
    "    print ('something is 4')\n",
    "else:\n",
    "    print('something is something else')"
   ]
  },
  {
   "cell_type": "code",
   "execution_count": 15,
   "metadata": {},
   "outputs": [],
   "source": [
    "#Using conditionals in Function for calculating buffer recipes\n",
    "def bufferRecipe(buffer,molarity):\n",
    "    if buffer == 'Tris':\n",
    "        grams = 121.14\n",
    "    elif buffer == 'MES':\n",
    "        grams = 217.22\n",
    "    elif buffer == 'HEPES':\n",
    "        grams = 238.30\n",
    "    else:\n",
    "        return 'Huh??? Are you a scientist or what?'\n",
    "    gramsPerLiter = grams * molarity\n",
    "    print('Mass of buffer powder to measure = ',gramsPerLiter,'g', 'dissolved in 1 Litre of solvent')\n",
    "    return gramsPerLiter\n",
    "\n",
    "\n"
   ]
  },
  {
   "cell_type": "code",
   "execution_count": 16,
   "metadata": {},
   "outputs": [
    {
     "name": "stdout",
     "output_type": "stream",
     "text": [
      "Mass of buffer powder to measure =  121.14 g dissolved in 1 Litre of solvent\n"
     ]
    },
    {
     "data": {
      "text/plain": [
       "121.14"
      ]
     },
     "execution_count": 16,
     "metadata": {},
     "output_type": "execute_result"
    }
   ],
   "source": [
    "bufferRecipe('Tris',1) #How do I make it write mass of Tris to measure, since buffer was TRIS?"
   ]
  },
  {
   "cell_type": "code",
   "execution_count": 17,
   "metadata": {},
   "outputs": [
    {
     "name": "stdout",
     "output_type": "stream",
     "text": [
      "Mass of buffer powder to measure =  476.6 g dissolved in 1 Litre of solvent\n"
     ]
    },
    {
     "data": {
      "text/plain": [
       "476.6"
      ]
     },
     "execution_count": 17,
     "metadata": {},
     "output_type": "execute_result"
    }
   ],
   "source": [
    "bufferRecipe('HEPES',2)"
   ]
  },
  {
   "cell_type": "code",
   "execution_count": 18,
   "metadata": {},
   "outputs": [
    {
     "data": {
      "text/plain": [
       "'Huh??? Are you a scientist or what?'"
      ]
     },
     "execution_count": 18,
     "metadata": {},
     "output_type": "execute_result"
    }
   ],
   "source": [
    "bufferRecipe('Iron',0.5)"
   ]
  },
  {
   "cell_type": "code",
   "execution_count": 19,
   "metadata": {},
   "outputs": [
    {
     "name": "stdout",
     "output_type": "stream",
     "text": [
      "Mass of buffer powder to measure =  12.114 g dissolved in 1 Litre of solvent\n",
      "Recipe for 0.1M Tris =  12.114 g/L\n"
     ]
    }
   ],
   "source": [
    "print('Recipe for 0.1M Tris = ',bufferRecipe('Tris',0.1),'g/L')"
   ]
  },
  {
   "cell_type": "code",
   "execution_count": null,
   "metadata": {},
   "outputs": [],
   "source": []
  }
 ],
 "metadata": {
  "kernelspec": {
   "display_name": "base",
   "language": "python",
   "name": "python3"
  },
  "language_info": {
   "codemirror_mode": {
    "name": "ipython",
    "version": 3
   },
   "file_extension": ".py",
   "mimetype": "text/x-python",
   "name": "python",
   "nbconvert_exporter": "python",
   "pygments_lexer": "ipython3",
   "version": "3.12.8"
  }
 },
 "nbformat": 4,
 "nbformat_minor": 2
}
