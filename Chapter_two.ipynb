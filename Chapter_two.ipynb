{
 "cells": [
  {
   "cell_type": "markdown",
   "metadata": {},
   "source": [
    "# Declaring Variables (and Types) in Python"
   ]
  },
  {
   "cell_type": "code",
   "execution_count": 9,
   "metadata": {},
   "outputs": [],
   "source": [
    "# Declaring numerical variables\n",
    "h2oOxygens = 1           #integers\n",
    "h2oHydrogens = 2         #floating point numbers\n",
    "h2o_density_in_grams_per_litre = 1000\n",
    "oxygenMass = 15.9994\n",
    "hydrogenMass = 1.00794\n",
    "avogadro_number = 6.023e23      #exponentials"
   ]
  },
  {
   "cell_type": "code",
   "execution_count": 6,
   "metadata": {},
   "outputs": [
    {
     "name": "stdout",
     "output_type": "stream",
     "text": [
      "15.9994\n"
     ]
    }
   ],
   "source": [
    "print (oxygenMass)"
   ]
  },
  {
   "cell_type": "code",
   "execution_count": 7,
   "metadata": {},
   "outputs": [
    {
     "name": "stdout",
     "output_type": "stream",
     "text": [
      "6.023e+23\n"
     ]
    }
   ],
   "source": [
    "print(avogadro_number)"
   ]
  },
  {
   "cell_type": "code",
   "execution_count": 8,
   "metadata": {},
   "outputs": [],
   "source": [
    "# Declaring string variables\n",
    "buffer = 'Tris'\n",
    "buffer = 'MES'\n",
    "jfk = \"I'm proud to say 'Ich bin ein Berliner'\"\n",
    "carbonMass = \"12.0107\"\n",
    "\n",
    "# Using triple quotes\n",
    "limerick = \"\"\" Said a young researcher named SPode\n",
    "Having reached the end of his road\n",
    "'I have far too much data\n",
    "For this hand calculator\n",
    "If only I knew how to code!' \"\"\""
   ]
  },
  {
   "cell_type": "code",
   "execution_count": 10,
   "metadata": {},
   "outputs": [
    {
     "name": "stdout",
     "output_type": "stream",
     "text": [
      "molecular weight of H2O =  18.01528\n"
     ]
    }
   ],
   "source": [
    "# First piece of Real Python Code\n",
    "h2oMass = h2oOxygens * oxygenMass + h2oHydrogens * hydrogenMass\n",
    "print('molecular weight of H2O = ',h2oMass)"
   ]
  },
  {
   "cell_type": "code",
   "execution_count": 12,
   "metadata": {},
   "outputs": [],
   "source": [
    "# Python Functions\n",
    "\n",
    "def calculateVolume(mass,density):\n",
    "    volume = mass/density\n",
    "    return volume"
   ]
  },
  {
   "cell_type": "code",
   "execution_count": 13,
   "metadata": {},
   "outputs": [
    {
     "data": {
      "text/plain": [
       "2.0"
      ]
     },
     "execution_count": 13,
     "metadata": {},
     "output_type": "execute_result"
    }
   ],
   "source": [
    "calculateVolume(20,10)"
   ]
  },
  {
   "cell_type": "markdown",
   "metadata": {},
   "source": [
    "# Conditional Statements"
   ]
  },
  {
   "cell_type": "code",
   "execution_count": 20,
   "metadata": {},
   "outputs": [
    {
     "name": "stdout",
     "output_type": "stream",
     "text": [
      "something is something else\n"
     ]
    }
   ],
   "source": [
    "something = 5\n",
    "if something == 6:            #shows a code block starts\n",
    "    print('something is 6')\n",
    "elif something == 4:\n",
    "    print ('something is 4')\n",
    "else:\n",
    "    print('something is something else')"
   ]
  },
  {
   "cell_type": "code",
   "execution_count": null,
   "metadata": {},
   "outputs": [],
   "source": []
  }
 ],
 "metadata": {
  "kernelspec": {
   "display_name": "Python 3",
   "language": "python",
   "name": "python3"
  },
  "language_info": {
   "codemirror_mode": {
    "name": "ipython",
    "version": 3
   },
   "file_extension": ".py",
   "mimetype": "text/x-python",
   "name": "python",
   "nbconvert_exporter": "python",
   "pygments_lexer": "ipython3",
   "version": "3.12.8"
  }
 },
 "nbformat": 4,
 "nbformat_minor": 2
}
